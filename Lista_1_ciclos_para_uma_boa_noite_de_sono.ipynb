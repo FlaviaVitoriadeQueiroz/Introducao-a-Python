{
  "nbformat": 4,
  "nbformat_minor": 0,
  "metadata": {
    "colab": {
      "provenance": [],
      "authorship_tag": "ABX9TyM0/dJ8eQQxTxYafjWbOj9h",
      "include_colab_link": true
    },
    "kernelspec": {
      "name": "python3",
      "display_name": "Python 3"
    },
    "language_info": {
      "name": "python"
    }
  },
  "cells": [
    {
      "cell_type": "markdown",
      "metadata": {
        "id": "view-in-github",
        "colab_type": "text"
      },
      "source": [
        "<a href=\"https://colab.research.google.com/github/FlaviaVitoriadeQueiroz/Introducao-a-Python/blob/main/Lista_1_ciclos_para_uma_boa_noite_de_sono.ipynb\" target=\"_parent\"><img src=\"https://colab.research.google.com/assets/colab-badge.svg\" alt=\"Open In Colab\"/></a>"
      ]
    },
    {
      "cell_type": "code",
      "execution_count": null,
      "metadata": {
        "id": "nH98ZoBFNBNE"
      },
      "outputs": [],
      "source": []
    },
    {
      "cell_type": "code",
      "source": [
        "sono = int (input ())\n",
        "ciclo = int (input ())\n",
        "total= ciclo*sono\n",
        "print (total)\n"
      ],
      "metadata": {
        "colab": {
          "base_uri": "https://localhost:8080/"
        },
        "id": "jwpwbcmHNril",
        "outputId": "0bbd6e44-39e3-4c4f-ddef-8a0551bc19dc"
      },
      "execution_count": null,
      "outputs": [
        {
          "output_type": "stream",
          "name": "stdout",
          "text": [
            "90\n",
            "6\n",
            "540\n"
          ]
        }
      ]
    },
    {
      "cell_type": "code",
      "source": [
        "horas = float (input())\n",
        "minutos =horas*60\n",
        "ciclos = minutos/90\n",
        "if ciclos +5:\n",
        "  print(f\"5 ciclos indica uma boa noite de sono\")\n",
        "if ciclos -4:\n",
        "  print(f\"4 ciclos não indica uma boa noite de sono\")"
      ],
      "metadata": {
        "colab": {
          "base_uri": "https://localhost:8080/"
        },
        "id": "zHuDw37lkXkS",
        "outputId": "e34259ad-4d94-4854-a74b-c5f4543a628c"
      },
      "execution_count": null,
      "outputs": [
        {
          "output_type": "stream",
          "name": "stdout",
          "text": [
            "8\n",
            "5 ciclos indica uma boa noite de sono\n",
            "4 ciclos não indica uma boa noite de sono\n"
          ]
        }
      ]
    },
    {
      "cell_type": "code",
      "source": [
        "horas = float (input())\n",
        "minutos = horas * 60\n",
        "ciclos = minutos / 90\n",
        "if minutos >= 438 and minutos <= 540:\n",
        "  print(f\"5 ciclos indica uma boa noite de sono\")\n",
        "else:\n",
        "  print(f\"4 ciclos não indica uma boa noite de sono\")"
      ],
      "metadata": {
        "colab": {
          "base_uri": "https://localhost:8080/"
        },
        "id": "n49sL1xGoLAW",
        "outputId": "97a45d34-4ae8-4fca-b071-866c7dbc2a86"
      },
      "execution_count": null,
      "outputs": [
        {
          "output_type": "stream",
          "name": "stdout",
          "text": [
            "8\n",
            "5 ciclos indica uma boa noite de sono\n"
          ]
        }
      ]
    },
    {
      "cell_type": "code",
      "source": [
        "horas = float(input())\n",
        "minutos = horas * 60\n",
        "ciclos = minutos // 90\n",
        "if minutos - (ciclos * 90) >= 40:\n",
        "    print(f\"{ciclos + 1} ciclos indica uma boa noite de sono\")\n",
        "else:\n",
        "    print(f\"{ciclos} ciclos não indica uma boa noite de sono\")"
      ],
      "metadata": {
        "colab": {
          "base_uri": "https://localhost:8080/"
        },
        "id": "kjnV-5CEp6H8",
        "outputId": "51d350fa-fd6e-4ee0-f327-4b2edbce6bd0"
      },
      "execution_count": null,
      "outputs": [
        {
          "output_type": "stream",
          "name": "stdout",
          "text": [
            "8\n",
            "5.0 ciclos não indica uma boa noite de sono\n"
          ]
        }
      ]
    },
    {
      "cell_type": "code",
      "source": [
        "horas = float (input())\n",
        "minutos = float (inpt())\n",
        "ciclos = horas+minutos\n",
        "if <= 7.30:\n",
        "  print(f\"5 ciclos indica uma boa noite de sono\")\n",
        "else:\n",
        "  print(f\"4 ciclos não indica uma boa noite de sono\")"
      ],
      "metadata": {
        "id": "if7k0FVfrH5x"
      },
      "execution_count": null,
      "outputs": []
    },
    {
      "cell_type": "code",
      "source": [
        "horas = int (input())\n",
        "minutos = int (input())\n",
        "\n",
        "min = (horas * 60) + minutos\n",
        "\n",
        "ciclos = min / 90\n",
        "\n",
        "if min >= 450 and min <= 540:\n",
        "  print(f\"5 ciclos indica uma boa noite de sono\")\n",
        "else:\n",
        "  print(f\"4 ciclos não indica uma boa noite de sono\")\n",
        "  #essa é a correta"
      ],
      "metadata": {
        "colab": {
          "base_uri": "https://localhost:8080/"
        },
        "id": "qsprs6SysvwI",
        "outputId": "990bc158-46a5-4d89-a084-795375570aeb"
      },
      "execution_count": null,
      "outputs": [
        {
          "output_type": "stream",
          "name": "stdout",
          "text": [
            "8\n",
            "60\n",
            "5 ciclos indica uma boa noite de sono\n"
          ]
        }
      ]
    },
    {
      "cell_type": "code",
      "source": [
        "h = float(input())\n",
        "\n",
        "print((h>8))* \"Demais\" + (h==8)*\"Exato\" + (h<8:)"
      ],
      "metadata": {
        "id": "a_8n5Ttc4oQT"
      },
      "execution_count": null,
      "outputs": []
    }
  ]
}